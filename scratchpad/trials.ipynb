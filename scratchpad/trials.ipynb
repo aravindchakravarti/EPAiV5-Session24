{
 "cells": [
  {
   "cell_type": "code",
   "execution_count": 1,
   "metadata": {},
   "outputs": [
    {
     "name": "stdout",
     "output_type": "stream",
     "text": [
      "Hello World!\n"
     ]
    }
   ],
   "source": [
    "print(\"Hello World!\")"
   ]
  },
  {
   "cell_type": "code",
   "execution_count": 12,
   "metadata": {},
   "outputs": [
    {
     "name": "stdout",
     "output_type": "stream",
     "text": [
      "__set_name__ has been called\n",
      "<class '__main__.Account'>.__init__ has been called\n",
      "__set__ has been called\n",
      "__get__ has been called\n",
      "100\n"
     ]
    }
   ],
   "source": [
    "class PositiveValue:\n",
    "    def __get__(self, instance, owner):\n",
    "        print (f\"__get__ has been called\")\n",
    "        return instance.__dict__.get(self.name, 0)\n",
    "    \n",
    "    def __set__(self, instance, value):\n",
    "        print (f\"__set__ has been called\")\n",
    "        if value < 0:\n",
    "            raise ValueError(\"Value must be positive\")\n",
    "        instance.__dict__[self.name] = value\n",
    "    \n",
    "    def __set_name__(self, instance, name):\n",
    "        print (f\"__set_name__ has been called\")\n",
    "        self.name = name\n",
    "\n",
    "class Account:\n",
    "    def __init__(self):\n",
    "        print(f\"{self.__class__}.__init__ has been called\")\n",
    "\n",
    "    balance = PositiveValue()\n",
    "\n",
    "a = Account()\n",
    "a.balance = 100\n",
    "print(a.balance)"
   ]
  },
  {
   "cell_type": "code",
   "execution_count": 13,
   "metadata": {},
   "outputs": [
    {
     "name": "stdout",
     "output_type": "stream",
     "text": [
      "Fetching the database name\n",
      "Fetching the database email\n"
     ]
    }
   ],
   "source": [
    "class DatabaseField:\n",
    "    def __get__(self, instance, owner):\n",
    "        return f'Fetching the database {self.name}'\n",
    "\n",
    "    def __set_name__(self, owner, name):\n",
    "        self.name = name\n",
    "\n",
    "class User:\n",
    "    name = DatabaseField()\n",
    "    email = DatabaseField()\n",
    "\n",
    "\n",
    "someuser = User()\n",
    "print(someuser.name)\n",
    "print(someuser.email)"
   ]
  },
  {
   "cell_type": "code",
   "execution_count": 15,
   "metadata": {},
   "outputs": [
    {
     "name": "stderr",
     "output_type": "stream",
     "text": [
      "C:\\Users\\achakravarti\\AppData\\Local\\Temp\\ipykernel_12656\\2979866351.py:5: DeprecationWarning: datetime.datetime.utcnow() is deprecated and scheduled for removal in a future version. Use timezone-aware objects to represent datetimes in UTC: datetime.datetime.now(datetime.UTC).\n",
      "  return datetime.utcnow().isoformat()\n"
     ]
    },
    {
     "data": {
      "text/plain": [
       "'2024-12-15T06:09:22.497791'"
      ]
     },
     "execution_count": 15,
     "metadata": {},
     "output_type": "execute_result"
    }
   ],
   "source": [
    "from datetime import datetime\n",
    "\n",
    "class TimeUTC:\n",
    "    def __get__(self, instance, owner):\n",
    "        return datetime.utcnow().isoformat()\n",
    "    \n",
    "\n",
    "class Logger:\n",
    "    current_time = TimeUTC()\n",
    "\n",
    "l = Logger()\n",
    "l.current_time"
   ]
  },
  {
   "cell_type": "code",
   "execution_count": 16,
   "metadata": {},
   "outputs": [
    {
     "name": "stdout",
     "output_type": "stream",
     "text": [
      "8 Club\n",
      "2 Diamond\n",
      "J Club\n",
      "8 Diamond\n",
      "9 Diamond\n",
      "Q Heart\n",
      "J Heart\n",
      "6 Heart\n",
      "10 Spade\n",
      "Q Diamond\n"
     ]
    }
   ],
   "source": [
    "from random import choice, seed\n",
    "seed(0)\n",
    "\n",
    "\n",
    "class Deck:\n",
    "    @property\n",
    "    def suit(self):\n",
    "        return choice(('Spade', 'Heart', 'Diamond', 'Club'))\n",
    "    \n",
    "    @property\n",
    "    def card(self):\n",
    "        return choice(tuple('23456789JQKA') + ('10',))\n",
    "    \n",
    "\n",
    "d = Deck()\n",
    "\n",
    "for _ in range(10):\n",
    "    print(d.card, d.suit)"
   ]
  },
  {
   "cell_type": "code",
   "execution_count": 22,
   "metadata": {},
   "outputs": [
    {
     "name": "stdout",
     "output_type": "stream",
     "text": [
      "8 Club\n",
      "2 Diamond\n",
      "J Club\n",
      "8 Diamond\n",
      "9 Diamond\n",
      "Q Heart\n",
      "J Heart\n",
      "6 Heart\n",
      "10 Spade\n",
      "Q Diamond\n"
     ]
    }
   ],
   "source": [
    "seed(0)\n",
    "\n",
    "class randomChoice:\n",
    "    def __init__(self, choices):\n",
    "        self.choices = choices\n",
    "\n",
    "    def __get__(self, instance, owner): \n",
    "        return choice(self.choices)\n",
    "    \n",
    "class Deck:\n",
    "    suit = randomChoice(('Spade', 'Heart', 'Diamond', 'Club'))\n",
    "    card = randomChoice(tuple('23456789JQKA') + ('10',))\n",
    "\n",
    "d = Deck()\n",
    "\n",
    "for _ in range(10):\n",
    "    print(d.card, d.suit)"
   ]
  },
  {
   "cell_type": "code",
   "execution_count": 29,
   "metadata": {},
   "outputs": [
    {
     "name": "stdout",
     "output_type": "stream",
     "text": [
      "0x1c1f310e7b0\n",
      "__get__ is called, self = <__main__.TimeUTC object at 0x000001C1F310E7B0>, instance = <__main__.Logger1 object at 0x000001C1F039D700>, owner = <class '__main__.Logger1'>\n",
      "0x1c1f039d700\n"
     ]
    },
    {
     "name": "stderr",
     "output_type": "stream",
     "text": [
      "C:\\Users\\achakravarti\\AppData\\Local\\Temp\\ipykernel_12656\\1397531809.py:6: DeprecationWarning: datetime.datetime.utcnow() is deprecated and scheduled for removal in a future version. Use timezone-aware objects to represent datetimes in UTC: datetime.datetime.now(datetime.UTC).\n",
      "  return datetime.utcnow().isoformat()\n"
     ]
    }
   ],
   "source": [
    "from datetime import datetime\n",
    "\n",
    "class TimeUTC:\n",
    "    def __get__(self, instance, owner):\n",
    "        print (f'__get__ is called, self = {self}, instance = {instance}, owner = {owner}')\n",
    "        return datetime.utcnow().isoformat()\n",
    "    \n",
    "class Logger1:\n",
    "    current_time = TimeUTC()\n",
    "    print(hex(id(current_time)))\n",
    "\n",
    "class Logger2:\n",
    "    current_time = TimeUTC()\n",
    "\n",
    "obj1 = Logger1()\n",
    "obj1.current_time\n",
    "print(hex(id(obj1)))\n"
   ]
  },
  {
   "cell_type": "code",
   "execution_count": 39,
   "metadata": {},
   "outputs": [
    {
     "name": "stdout",
     "output_type": "stream",
     "text": [
      "0x1c1f2ff63c0\n",
      " x = 0x1c1f2ff63c0\n",
      "0x1c1f3137f50\n",
      "y = 0x1c1f3137f50\n",
      "\n",
      "\n",
      "\n",
      "{'__module__': '__main__', 'x': <__main__.IntegerValue object at 0x000001C1F2FF63C0>, 'y': <__main__.IntegerValue object at 0x000001C1F3137F50>, '__dict__': <attribute '__dict__' of 'Point2D' objects>, '__weakref__': <attribute '__weakref__' of 'Point2D' objects>, '__doc__': None}\n",
      "\n",
      "\n",
      "\n",
      "10 20 100 200\n"
     ]
    }
   ],
   "source": [
    "class IntegerValue:\n",
    "    def __init__ (self):\n",
    "        print(hex(id(self)))\n",
    "        self.values = {}\n",
    "    \n",
    "    def __set__(self, instance, value):\n",
    "        self.values[instance] = value\n",
    "    \n",
    "    def __get__(self, instance, owner):\n",
    "        if instance is None:\n",
    "            return self\n",
    "        else:\n",
    "            return self.values.get(instance)\n",
    "        \n",
    "class Point2D:\n",
    "    x = IntegerValue()\n",
    "    print(f' x = {hex(id(x))}')\n",
    "    y = IntegerValue()\n",
    "    print(f'y = {hex(id(y))}')\n",
    "\n",
    "p1 = Point2D()\n",
    "p2 = Point2D()\n",
    "\n",
    "p1.x = 10\n",
    "p1.y = 20\n",
    "\n",
    "p2.x = 100\n",
    "p2.y = 200\n",
    "\n",
    "print('\\n\\n')\n",
    "print(Point2D.__dict__)\n",
    "print('\\n\\n')\n",
    "print(p1.x, p1.y, p2.x, p2.y)"
   ]
  },
  {
   "cell_type": "code",
   "execution_count": 40,
   "metadata": {},
   "outputs": [
    {
     "data": {
      "text/plain": [
       "{<__main__.Point2D at 0x1c1f3134bf0>: 10,\n",
       " <__main__.Point2D at 0x1c1f31351c0>: 100}"
      ]
     },
     "execution_count": 40,
     "metadata": {},
     "output_type": "execute_result"
    }
   ],
   "source": [
    "Point2D.x.values"
   ]
  },
  {
   "cell_type": "markdown",
   "metadata": {},
   "source": [
    "# Strong and Weak References"
   ]
  },
  {
   "cell_type": "code",
   "execution_count": 41,
   "metadata": {},
   "outputs": [],
   "source": [
    "import ctypes\n",
    "\n",
    "def ref_count(address):\n",
    "    return ctypes.c_long.from_address(address).value"
   ]
  },
  {
   "cell_type": "code",
   "execution_count": 42,
   "metadata": {},
   "outputs": [],
   "source": [
    "import weakref\n"
   ]
  },
  {
   "cell_type": "code",
   "execution_count": 61,
   "metadata": {},
   "outputs": [
    {
     "name": "stdout",
     "output_type": "stream",
     "text": [
      "1\n",
      "0x1c1f3134e30\n"
     ]
    }
   ],
   "source": [
    "class Person:\n",
    "    def __init__(self, name):\n",
    "        self.name = name\n",
    "        \n",
    "    def __repr__(self):\n",
    "        return f'Person(name={self.name})'\n",
    "    \n",
    "p1 = Person('Guido')\n",
    "\n",
    "p1_id = id(p1)\n",
    "\n",
    "print(ref_count(p1_id))\n",
    "print(hex(id(p1)))"
   ]
  },
  {
   "cell_type": "code",
   "execution_count": 62,
   "metadata": {},
   "outputs": [
    {
     "data": {
      "text/plain": [
       "2"
      ]
     },
     "execution_count": 62,
     "metadata": {},
     "output_type": "execute_result"
    }
   ],
   "source": [
    "p2 = p1\n",
    "ref_count(p1_id)"
   ]
  },
  {
   "cell_type": "code",
   "execution_count": 63,
   "metadata": {},
   "outputs": [
    {
     "name": "stdout",
     "output_type": "stream",
     "text": [
      "<weakref at 0x000001C1F3641B70; to 'Person' at 0x000001C1F3134E30>\n"
     ]
    },
    {
     "data": {
      "text/plain": [
       "'0x1c1f3641b70'"
      ]
     },
     "execution_count": 63,
     "metadata": {},
     "output_type": "execute_result"
    }
   ],
   "source": [
    "weak1 = weakref.ref(p1)\n",
    "ref_count(p1_id)\n",
    "print(weak1)\n",
    "hex(id(weak1))"
   ]
  },
  {
   "cell_type": "code",
   "execution_count": 64,
   "metadata": {},
   "outputs": [
    {
     "data": {
      "text/plain": [
       "3"
      ]
     },
     "execution_count": 64,
     "metadata": {},
     "output_type": "execute_result"
    }
   ],
   "source": [
    "something = weak1()\n",
    "ref_count(p1_id)"
   ]
  },
  {
   "cell_type": "code",
   "execution_count": 66,
   "metadata": {},
   "outputs": [
    {
     "data": {
      "text/plain": [
       "1"
      ]
     },
     "execution_count": 66,
     "metadata": {},
     "output_type": "execute_result"
    }
   ],
   "source": [
    "weakref.getweakrefcount(p1)"
   ]
  },
  {
   "cell_type": "code",
   "execution_count": 67,
   "metadata": {},
   "outputs": [],
   "source": [
    "del p1\n",
    "del p2\n",
    "del something"
   ]
  },
  {
   "cell_type": "code",
   "execution_count": 72,
   "metadata": {},
   "outputs": [
    {
     "data": {
      "text/plain": [
       "100"
      ]
     },
     "execution_count": 72,
     "metadata": {},
     "output_type": "execute_result"
    }
   ],
   "source": [
    "ref_count(p1_id)"
   ]
  },
  {
   "cell_type": "code",
   "execution_count": 74,
   "metadata": {},
   "outputs": [
    {
     "data": {
      "text/plain": [
       "True"
      ]
     },
     "execution_count": 74,
     "metadata": {},
     "output_type": "execute_result"
    }
   ],
   "source": [
    "obj = weak1()\n",
    "\n",
    "obj is None"
   ]
  },
  {
   "cell_type": "code",
   "execution_count": 77,
   "metadata": {},
   "outputs": [
    {
     "name": "stdout",
     "output_type": "stream",
     "text": [
      "1\n"
     ]
    },
    {
     "data": {
      "text/plain": [
       "0"
      ]
     },
     "execution_count": 77,
     "metadata": {},
     "output_type": "execute_result"
    }
   ],
   "source": [
    "p1 = Person('Guido')\n",
    "\n",
    "d = weakref.WeakKeyDictionary()\n",
    "\n",
    "print(ref_count(id(p1)))\n",
    "weakref.getweakrefcount(p1)"
   ]
  },
  {
   "cell_type": "code",
   "execution_count": null,
   "metadata": {},
   "outputs": [],
   "source": [
    "d[p1] = 'Guido'"
   ]
  },
  {
   "cell_type": "code",
   "execution_count": 78,
   "metadata": {},
   "outputs": [],
   "source": [
    "import weakref\n",
    "\n",
    "class IntegerValue:\n",
    "    def __init__(self):\n",
    "        self.values = weakref.WeakKeyDictionary()\n",
    "\n",
    "    def __set__(self, instance, value):\n",
    "        self.values[instance] = int(value)\n",
    "\n",
    "    def __get__(self, instance, owner):\n",
    "        return self.values.get(instance)"
   ]
  },
  {
   "cell_type": "code",
   "execution_count": 4,
   "metadata": {},
   "outputs": [],
   "source": [
    "var = \"aravind.daccord.com\"\n",
    "if '.' in var and '@' in var:\n",
    "    print(\"hello\")"
   ]
  }
 ],
 "metadata": {
  "kernelspec": {
   "display_name": "general",
   "language": "python",
   "name": "python3"
  },
  "language_info": {
   "codemirror_mode": {
    "name": "ipython",
    "version": 3
   },
   "file_extension": ".py",
   "mimetype": "text/x-python",
   "name": "python",
   "nbconvert_exporter": "python",
   "pygments_lexer": "ipython3",
   "version": "3.12.5"
  }
 },
 "nbformat": 4,
 "nbformat_minor": 2
}
