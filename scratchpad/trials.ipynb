{
 "cells": [
  {
   "cell_type": "code",
   "execution_count": 2,
   "metadata": {},
   "outputs": [],
   "source": [
    "import enum\n",
    "\n",
    "class Color(enum.Enum):\n",
    "    red = 1\n",
    "    green = 2\n",
    "    blue = 3"
   ]
  },
  {
   "cell_type": "code",
   "execution_count": 3,
   "metadata": {},
   "outputs": [
    {
     "name": "stdout",
     "output_type": "stream",
     "text": [
      "Color.red\n",
      "Color.red\n"
     ]
    }
   ],
   "source": [
    "print(Color.red)\n",
    "print(Color['red'])"
   ]
  },
  {
   "cell_type": "code",
   "execution_count": 4,
   "metadata": {},
   "outputs": [
    {
     "data": {
      "text/plain": [
       "<enum 'Color'>"
      ]
     },
     "execution_count": 4,
     "metadata": {},
     "output_type": "execute_result"
    }
   ],
   "source": [
    "type(Color.red)"
   ]
  },
  {
   "cell_type": "code",
   "execution_count": 5,
   "metadata": {},
   "outputs": [
    {
     "data": {
      "text/plain": [
       "True"
      ]
     },
     "execution_count": 5,
     "metadata": {},
     "output_type": "execute_result"
    }
   ],
   "source": [
    "isinstance(Color.red, Color)"
   ]
  },
  {
   "cell_type": "code",
   "execution_count": 6,
   "metadata": {},
   "outputs": [
    {
     "name": "stdout",
     "output_type": "stream",
     "text": [
      "'>' not supported between instances of 'Constants' and 'Constants'\n"
     ]
    }
   ],
   "source": [
    "class Constants(enum.Enum):\n",
    "    PI = 3.142\n",
    "    E = 2.718\n",
    "\n",
    "try:\n",
    "    Constants.PI > Constants.E\n",
    "except TypeError as ex:\n",
    "    print(ex)"
   ]
  },
  {
   "cell_type": "code",
   "execution_count": 7,
   "metadata": {},
   "outputs": [],
   "source": [
    "class Person:\n",
    "    def __getitem__(self, val):\n",
    "        return f'__getitem__({val}) called...'"
   ]
  },
  {
   "cell_type": "code",
   "execution_count": 8,
   "metadata": {},
   "outputs": [
    {
     "data": {
      "text/plain": [
       "'__getitem__(some value) called...'"
      ]
     },
     "execution_count": 8,
     "metadata": {},
     "output_type": "execute_result"
    }
   ],
   "source": [
    "p = Person()\n",
    "p['some value']"
   ]
  },
  {
   "cell_type": "code",
   "execution_count": 9,
   "metadata": {},
   "outputs": [
    {
     "data": {
      "text/plain": [
       "False"
      ]
     },
     "execution_count": 9,
     "metadata": {},
     "output_type": "execute_result"
    }
   ],
   "source": [
    "class NumSides(enum.Enum):\n",
    "    triangle = 3\n",
    "    rectangle = 4\n",
    "    square = 4\n",
    "    rhombus = 4\n",
    "\n",
    "\n",
    "NumSides.triangle is NumSides.square"
   ]
  },
  {
   "cell_type": "code",
   "execution_count": 16,
   "metadata": {},
   "outputs": [],
   "source": [
    "class Color(enum.Enum):\n",
    "    red = 1\n",
    "    green = 2\n",
    "    blue = 3\n",
    "\n",
    "    def pureColor(self, value):\n",
    "        return {self: value}"
   ]
  },
  {
   "cell_type": "code",
   "execution_count": 17,
   "metadata": {},
   "outputs": [
    {
     "data": {
      "text/plain": [
       "{<Color.red: 1>: 100}"
      ]
     },
     "execution_count": 17,
     "metadata": {},
     "output_type": "execute_result"
    }
   ],
   "source": [
    "Color.red.pureColor(100)"
   ]
  },
  {
   "cell_type": "code",
   "execution_count": 19,
   "metadata": {},
   "outputs": [
    {
     "data": {
      "text/plain": [
       "enum.EnumType"
      ]
     },
     "execution_count": 19,
     "metadata": {},
     "output_type": "execute_result"
    }
   ],
   "source": [
    "type(Color)"
   ]
  },
  {
   "cell_type": "code",
   "execution_count": 25,
   "metadata": {},
   "outputs": [
    {
     "data": {
      "text/plain": [
       "type"
      ]
     },
     "execution_count": 25,
     "metadata": {},
     "output_type": "execute_result"
    }
   ],
   "source": [
    "class Person_1:\n",
    "    pass\n",
    "\n",
    "class Person_2(Person_1):\n",
    "    pass\n",
    "\n",
    "obj1 = Person_1\n",
    "obj2 = Person_2\n",
    "\n",
    "type(obj1)\n",
    "type(obj2)"
   ]
  },
  {
   "cell_type": "code",
   "execution_count": 27,
   "metadata": {},
   "outputs": [],
   "source": [
    "from enum import Enum\n",
    "class Number(Enum):\n",
    "    ONE = 1\n",
    "    TWO = 2\n",
    "    THREE = 3\n",
    "\n",
    "    def __lt__(self, other):\n",
    "        return (self.value < other.value)\n",
    "    "
   ]
  },
  {
   "cell_type": "code",
   "execution_count": 32,
   "metadata": {},
   "outputs": [
    {
     "data": {
      "text/plain": [
       "{'_value_': 1,\n",
       " '_name_': 'ONE',\n",
       " '__objclass__': <enum 'Number'>,\n",
       " '_sort_order_': 0}"
      ]
     },
     "execution_count": 32,
     "metadata": {},
     "output_type": "execute_result"
    }
   ],
   "source": [
    "Number.ONE.__dict__"
   ]
  },
  {
   "cell_type": "code",
   "execution_count": 33,
   "metadata": {},
   "outputs": [
    {
     "name": "stdout",
     "output_type": "stream",
     "text": [
      "WAITING = 1\n",
      "STARTED = 2\n",
      "FINISHED = 3\n"
     ]
    }
   ],
   "source": [
    "class State(enum.Enum):\n",
    "    WAITING = enum.auto()\n",
    "    STARTED = enum.auto()\n",
    "    FINISHED = enum.auto()\n",
    "\n",
    "\n",
    "for enumerations in State:\n",
    "    print(f'{enumerations.name} = {enumerations.value}')"
   ]
  },
  {
   "cell_type": "code",
   "execution_count": 34,
   "metadata": {},
   "outputs": [
    {
     "data": {
      "text/plain": [
       "mappingproxy({'WAITING': <State.WAITING: 1>,\n",
       "              'STARTED': <State.STARTED: 2>,\n",
       "              'FINISHED': <State.FINISHED: 3>})"
      ]
     },
     "execution_count": 34,
     "metadata": {},
     "output_type": "execute_result"
    }
   ],
   "source": [
    "State.__members__"
   ]
  },
  {
   "cell_type": "code",
   "execution_count": 36,
   "metadata": {},
   "outputs": [
    {
     "data": {
      "text/plain": [
       "<State.WAITING: 1>"
      ]
     },
     "execution_count": 36,
     "metadata": {},
     "output_type": "execute_result"
    }
   ],
   "source": [
    "check_enum_obj = State\n",
    "\n",
    "check_enum_obj.WAITING"
   ]
  },
  {
   "cell_type": "markdown",
   "metadata": {},
   "source": [
    "# Exceptions"
   ]
  },
  {
   "cell_type": "code",
   "execution_count": 37,
   "metadata": {},
   "outputs": [
    {
     "data": {
      "text/plain": [
       "type"
      ]
     },
     "execution_count": 37,
     "metadata": {},
     "output_type": "execute_result"
    }
   ],
   "source": [
    "type(Exception)"
   ]
  },
  {
   "cell_type": "code",
   "execution_count": 39,
   "metadata": {},
   "outputs": [
    {
     "data": {
      "text/plain": [
       "True"
      ]
     },
     "execution_count": 39,
     "metadata": {},
     "output_type": "execute_result"
    }
   ],
   "source": [
    "issubclass(ValueError, BaseException)"
   ]
  },
  {
   "cell_type": "code",
   "execution_count": 42,
   "metadata": {},
   "outputs": [
    {
     "name": "stdout",
     "output_type": "stream",
     "text": [
      "<class 'IndexError'>\n"
     ]
    }
   ],
   "source": [
    "l = [1, 2, 3]\n",
    "\n",
    "try:\n",
    "    l[4]\n",
    "except IndexError as IE:\n",
    "    print(IE.__class__)"
   ]
  },
  {
   "cell_type": "code",
   "execution_count": 71,
   "metadata": {},
   "outputs": [
    {
     "ename": "ValueError",
     "evalue": "",
     "output_type": "error",
     "traceback": [
      "\u001b[1;31m---------------------------------------------------------------------------\u001b[0m",
      "\u001b[1;31mValueError\u001b[0m                                Traceback (most recent call last)",
      "Cell \u001b[1;32mIn[71], line 11\u001b[0m\n\u001b[0;32m      7\u001b[0m \u001b[38;5;28;01mdef\u001b[39;00m \u001b[38;5;21mfunc_3\u001b[39m():\n\u001b[0;32m      8\u001b[0m     \u001b[38;5;66;03m# create an instance of a ValueError exception, and raise it\u001b[39;00m\n\u001b[0;32m      9\u001b[0m     \u001b[38;5;28;01mraise\u001b[39;00m \u001b[38;5;167;01mValueError\u001b[39;00m()\n\u001b[1;32m---> 11\u001b[0m \u001b[43mfunc_1\u001b[49m\u001b[43m(\u001b[49m\u001b[43m)\u001b[49m\n",
      "Cell \u001b[1;32mIn[71], line 2\u001b[0m, in \u001b[0;36mfunc_1\u001b[1;34m()\u001b[0m\n\u001b[0;32m      1\u001b[0m \u001b[38;5;28;01mdef\u001b[39;00m \u001b[38;5;21mfunc_1\u001b[39m():\n\u001b[1;32m----> 2\u001b[0m     \u001b[43mfunc_2\u001b[49m\u001b[43m(\u001b[49m\u001b[43m)\u001b[49m\n",
      "Cell \u001b[1;32mIn[71], line 5\u001b[0m, in \u001b[0;36mfunc_2\u001b[1;34m()\u001b[0m\n\u001b[0;32m      4\u001b[0m \u001b[38;5;28;01mdef\u001b[39;00m \u001b[38;5;21mfunc_2\u001b[39m():\n\u001b[1;32m----> 5\u001b[0m     \u001b[43mfunc_3\u001b[49m\u001b[43m(\u001b[49m\u001b[43m)\u001b[49m\n",
      "Cell \u001b[1;32mIn[71], line 9\u001b[0m, in \u001b[0;36mfunc_3\u001b[1;34m()\u001b[0m\n\u001b[0;32m      7\u001b[0m \u001b[38;5;28;01mdef\u001b[39;00m \u001b[38;5;21mfunc_3\u001b[39m():\n\u001b[0;32m      8\u001b[0m     \u001b[38;5;66;03m# create an instance of a ValueError exception, and raise it\u001b[39;00m\n\u001b[1;32m----> 9\u001b[0m     \u001b[38;5;28;01mraise\u001b[39;00m \u001b[38;5;167;01mValueError\u001b[39;00m()\n",
      "\u001b[1;31mValueError\u001b[0m: "
     ]
    }
   ],
   "source": [
    "def func_1():\n",
    "    func_2()\n",
    "    \n",
    "def func_2():\n",
    "    func_3()\n",
    "    \n",
    "def func_3():\n",
    "    # create an instance of a ValueError exception, and raise it\n",
    "    raise ValueError()\n",
    "\n",
    "func_1()"
   ]
  },
  {
   "cell_type": "code",
   "execution_count": 49,
   "metadata": {},
   "outputs": [
    {
     "name": "stdout",
     "output_type": "stream",
     "text": [
      "list index out of range\n"
     ]
    },
    {
     "data": {
      "text/plain": [
       "[1, 4, 9, None]"
      ]
     },
     "execution_count": 49,
     "metadata": {},
     "output_type": "execute_result"
    }
   ],
   "source": [
    "def square(seq, index):\n",
    "    try:\n",
    "        return seq[index]**2\n",
    "    except IndexError as IE:\n",
    "        print(IE)\n",
    "\n",
    "def squares(seq, max_n):\n",
    "    for i in range(max_n):\n",
    "        yield square(seq, i)\n",
    "\n",
    "\n",
    "l = [1, 2, 3]\n",
    "list(squares(l, 4))"
   ]
  },
  {
   "cell_type": "code",
   "execution_count": 50,
   "metadata": {},
   "outputs": [
    {
     "data": {
      "text/plain": [
       "[1, 4, 9]"
      ]
     },
     "execution_count": 50,
     "metadata": {},
     "output_type": "execute_result"
    }
   ],
   "source": [
    "def square(seq, index):\n",
    "    return seq[index]**2\n",
    "    \n",
    "def squares(seq, max_n):\n",
    "    for i in range(max_n):\n",
    "        try:\n",
    "            yield square(seq, i)\n",
    "        except IndexError as IE:\n",
    "            break\n",
    "\n",
    "\n",
    "l = [1, 2, 3]\n",
    "list(squares(l, 4))"
   ]
  },
  {
   "cell_type": "code",
   "execution_count": 59,
   "metadata": {},
   "outputs": [],
   "source": [
    "def func_1():\n",
    "    pass"
   ]
  },
  {
   "cell_type": "code",
   "execution_count": 60,
   "metadata": {},
   "outputs": [
    {
     "name": "stdout",
     "output_type": "stream",
     "text": [
      "Something else occured!\n",
      "At the end everything will be alright\n"
     ]
    }
   ],
   "source": [
    "try:\n",
    "    func_1()\n",
    "except ValueError as ex:\n",
    "    print('Handling ', repr(ex))\n",
    "else:\n",
    "    print('Something else occured!')\n",
    "finally:\n",
    "    print(\"At the end everything will be alright\")"
   ]
  },
  {
   "cell_type": "code",
   "execution_count": 61,
   "metadata": {},
   "outputs": [],
   "source": [
    "json_data = \"\"\"{\n",
    "    \"Alex\": {\"age\": 18},\n",
    "    \"Bryan\": {\"age\": 21, \"city\": \"London\"},\n",
    "    \"Guido\": {\"age\": \"unknown\"}\n",
    "}\"\"\""
   ]
  },
  {
   "cell_type": "code",
   "execution_count": 62,
   "metadata": {},
   "outputs": [],
   "source": [
    "import json\n",
    "data = json.loads(json_data)"
   ]
  },
  {
   "cell_type": "code",
   "execution_count": 63,
   "metadata": {},
   "outputs": [
    {
     "data": {
      "text/plain": [
       "{'Alex': {'age': 18},\n",
       " 'Bryan': {'age': 21, 'city': 'London'},\n",
       " 'Guido': {'age': 'unknown'}}"
      ]
     },
     "execution_count": 63,
     "metadata": {},
     "output_type": "execute_result"
    }
   ],
   "source": [
    "data"
   ]
  },
  {
   "cell_type": "code",
   "execution_count": 64,
   "metadata": {},
   "outputs": [],
   "source": [
    "class Person:\n",
    "    __slots__ = 'name', '_age'\n",
    "\n",
    "    def __init__(self, name):\n",
    "        self.name = name\n",
    "        self._age = None\n",
    "\n",
    "    @property\n",
    "    def age(self):\n",
    "        return self._age\n",
    "    \n",
    "    @age.setter\n",
    "    def age(self, value):\n",
    "        if isinstance(value, int) and value >= 0:\n",
    "            self._age = value\n",
    "        else:\n",
    "            raise ValueError('Invalid age')\n",
    "        \n",
    "    def __repr__(self):\n",
    "        return f'Person(name={self.name}, age={self.age})'\n"
   ]
  },
  {
   "cell_type": "code",
   "execution_count": 65,
   "metadata": {},
   "outputs": [
    {
     "name": "stdout",
     "output_type": "stream",
     "text": [
      "Alex {'age': 18}\n",
      "Bryan {'age': 21, 'city': 'London'}\n",
      "Guido {'age': 'unknown'}\n"
     ]
    }
   ],
   "source": [
    "persons = []\n",
    "\n",
    "for name, attributes in data.items():\n",
    "    try:\n",
    "        p = Person(name)\n",
    "\n",
    "        for attrib_name, attrib_value in attributes:\n",
    "            try:\n",
    "                setattr(attrib_name, attrib_value)\n",
    "            except AttributeError:\n",
    "                print(f'ignoring attribute: {name}.{attrib_name}={attrib_value}')\n"
   ]
  },
  {
   "cell_type": "code",
   "execution_count": 66,
   "metadata": {},
   "outputs": [],
   "source": [
    "def convert_int(val):\n",
    "    if not isinstance(val, int):  # remember this will work for booleans too!\n",
    "        raise TypeError()\n",
    "    if val not in {0, 1}:\n",
    "        raise ValueError(\"Integer values 0 or 1 only\")\n",
    "    return bool(val)\n",
    "\n",
    "def convert_str(val):\n",
    "    if not isinstance(val, str):\n",
    "        raise TypeError()\n",
    "        \n",
    "    val = val.casefold()  # for case-insensitive comparisons\n",
    "    if val in {'0', 'f', 'false'}:\n",
    "        return False\n",
    "    elif val in {'1', 't', 'true'}:\n",
    "        return True\n",
    "    else:\n",
    "        raise ValueError('Admissible string values are: T, F, True, False (case insensitive)')"
   ]
  },
  {
   "cell_type": "code",
   "execution_count": 67,
   "metadata": {},
   "outputs": [],
   "source": [
    "class ConversionError(Exception):\n",
    "    pass\n",
    "\n",
    "def make_bool(val):\n",
    "    try:\n",
    "        try:\n",
    "            b = convert_int(val)\n",
    "        except TypeError:\n",
    "            # it wasn't an int/bool, so let's try it as a string\n",
    "            try:\n",
    "                b = convert_str(val)\n",
    "            except TypeError:\n",
    "                raise ConversionError(f'The type {type(val).__name__} cannot be converted to a bool')\n",
    "    except ValueError as ex:\n",
    "        # this will catch ValueError exceptions from either convert_int or convert_str\n",
    "        raise ConversionError(f'The value {val} cannot be converted to a bool: {ex}')\n",
    "    else:\n",
    "        return b\n",
    "    "
   ]
  },
  {
   "cell_type": "code",
   "execution_count": 70,
   "metadata": {},
   "outputs": [],
   "source": [
    "ex = BaseException(\"Aravind\")\n",
    "\n",
    "ex.__traceback__"
   ]
  },
  {
   "cell_type": "code",
   "execution_count": 75,
   "metadata": {},
   "outputs": [],
   "source": [
    "def func_1():\n",
    "    func_2()\n",
    "    \n",
    "def func_2():\n",
    "    func_3()\n",
    "    \n",
    "def func_3():\n",
    "    # create an instance of a ValueError exception, and raise it\n",
    "    raise ValueError()\n",
    "\n",
    "try:\n",
    "    func_1()\n",
    "except ValueError as VE:\n",
    "    VE.__traceback__"
   ]
  },
  {
   "cell_type": "code",
   "execution_count": 77,
   "metadata": {},
   "outputs": [
    {
     "name": "stdout",
     "output_type": "stream",
     "text": [
      "Logging\n"
     ]
    },
    {
     "ename": "CustomError",
     "evalue": "Aravind",
     "output_type": "error",
     "traceback": [
      "\u001b[1;31m---------------------------------------------------------------------------\u001b[0m",
      "\u001b[1;31mZeroDivisionError\u001b[0m                         Traceback (most recent call last)",
      "Cell \u001b[1;32mIn[77], line 6\u001b[0m, in \u001b[0;36mMyFunc\u001b[1;34m(a, b)\u001b[0m\n\u001b[0;32m      5\u001b[0m \u001b[38;5;28;01mtry\u001b[39;00m:\n\u001b[1;32m----> 6\u001b[0m     \u001b[38;5;28;01mreturn\u001b[39;00m \u001b[43ma\u001b[49m\u001b[43m \u001b[49m\u001b[38;5;241;43m/\u001b[39;49m\u001b[38;5;241;43m/\u001b[39;49m\u001b[43m \u001b[49m\u001b[43mb\u001b[49m\n\u001b[0;32m      7\u001b[0m \u001b[38;5;28;01mexcept\u001b[39;00m \u001b[38;5;167;01mZeroDivisionError\u001b[39;00m \u001b[38;5;28;01mas\u001b[39;00m Ex:\n",
      "\u001b[1;31mZeroDivisionError\u001b[0m: integer division or modulo by zero",
      "\nDuring handling of the above exception, another exception occurred:\n",
      "\u001b[1;31mCustomError\u001b[0m                               Traceback (most recent call last)",
      "Cell \u001b[1;32mIn[77], line 11\u001b[0m\n\u001b[0;32m      8\u001b[0m         \u001b[38;5;28mprint\u001b[39m (\u001b[38;5;124m\"\u001b[39m\u001b[38;5;124mLogging\u001b[39m\u001b[38;5;124m\"\u001b[39m)\n\u001b[0;32m      9\u001b[0m         \u001b[38;5;28;01mraise\u001b[39;00m CustomError(\u001b[38;5;241m*\u001b[39mex\u001b[38;5;241m.\u001b[39margs)\n\u001b[1;32m---> 11\u001b[0m \u001b[43mMyFunc\u001b[49m\u001b[43m(\u001b[49m\u001b[38;5;241;43m1\u001b[39;49m\u001b[43m,\u001b[49m\u001b[43m \u001b[49m\u001b[38;5;241;43m0\u001b[39;49m\u001b[43m)\u001b[49m\n",
      "Cell \u001b[1;32mIn[77], line 9\u001b[0m, in \u001b[0;36mMyFunc\u001b[1;34m(a, b)\u001b[0m\n\u001b[0;32m      7\u001b[0m \u001b[38;5;28;01mexcept\u001b[39;00m \u001b[38;5;167;01mZeroDivisionError\u001b[39;00m \u001b[38;5;28;01mas\u001b[39;00m Ex:\n\u001b[0;32m      8\u001b[0m     \u001b[38;5;28mprint\u001b[39m (\u001b[38;5;124m\"\u001b[39m\u001b[38;5;124mLogging\u001b[39m\u001b[38;5;124m\"\u001b[39m)\n\u001b[1;32m----> 9\u001b[0m     \u001b[38;5;28;01mraise\u001b[39;00m CustomError(\u001b[38;5;241m*\u001b[39mex\u001b[38;5;241m.\u001b[39margs)\n",
      "\u001b[1;31mCustomError\u001b[0m: Aravind"
     ]
    }
   ],
   "source": [
    "class CustomError(Exception):\n",
    "    \"\"\" A custom exception \"\"\"\n",
    "\n",
    "def MyFunc(a, b):\n",
    "    try:\n",
    "        return a // b\n",
    "    except ZeroDivisionError as Ex:\n",
    "        print (\"Logging\")\n",
    "        raise CustomError(*ex.args)\n",
    "    \n",
    "MyFunc(1, 0)"
   ]
  },
  {
   "cell_type": "code",
   "execution_count": 78,
   "metadata": {},
   "outputs": [
    {
     "name": "stdout",
     "output_type": "stream",
     "text": [
      "Timeout occurred\n"
     ]
    }
   ],
   "source": [
    "class TimeoutError(Exception):\n",
    "    \"\"\"Timeout exception\"\"\"\n",
    "\n",
    "try:\n",
    "    raise TimeoutError('Timeout occurred')\n",
    "except TimeoutError as ex:\n",
    "    print(ex)"
   ]
  },
  {
   "cell_type": "code",
   "execution_count": 79,
   "metadata": {},
   "outputs": [],
   "source": [
    "class WebScraperException(Exception):\n",
    "    \"\"\"Base exception for WebScraper\"\"\"\n",
    "\n",
    "\n",
    "class HTTPException(WebScraperException):\n",
    "    \"\"\"General HTTP exception for WebScraper\"\"\"\n",
    "    \n",
    "class InvalidUrlException(HTTPException):\n",
    "    \"\"\"Indicates the url is invalid (dns lookup fails)\"\"\"\n",
    "    \n",
    "class TimeoutException(HTTPException):\n",
    "    \"\"\"Indicates a general timeout exception in http connectivity\"\"\"\n",
    "    \n",
    "class PingTimeoutException(TimeoutException):\n",
    "    \"\"\"Ping time out\"\"\"\n",
    "    \n",
    "class LoadTimeoutException(TimeoutException):\n",
    "    \"\"\"Page load time out\"\"\"\n",
    "    \n",
    "class ParserException(WebScraperException):\n",
    "    \"\"\"General page parsing exception\"\"\""
   ]
  }
 ],
 "metadata": {
  "kernelspec": {
   "display_name": "general",
   "language": "python",
   "name": "python3"
  },
  "language_info": {
   "codemirror_mode": {
    "name": "ipython",
    "version": 3
   },
   "file_extension": ".py",
   "mimetype": "text/x-python",
   "name": "python",
   "nbconvert_exporter": "python",
   "pygments_lexer": "ipython3",
   "version": "3.12.5"
  }
 },
 "nbformat": 4,
 "nbformat_minor": 2
}
